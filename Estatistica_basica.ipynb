{
 "cells": [
  {
   "cell_type": "markdown",
   "id": "b28bb6e1",
   "metadata": {},
   "source": [
    "# Estatística Básica"
   ]
  },
  {
   "cell_type": "code",
   "execution_count": 1,
   "id": "e2add7fc",
   "metadata": {},
   "outputs": [
    {
     "name": "stdout",
     "output_type": "stream",
     "text": [
      "200\n"
     ]
    }
   ],
   "source": [
    "#valor absoluto\n",
    "print(abs(-200))"
   ]
  },
  {
   "cell_type": "code",
   "execution_count": 2,
   "id": "5521749d",
   "metadata": {},
   "outputs": [],
   "source": [
    "#lista\n",
    "lst = [1,2,30,30,45,19,19,18,18,16,15,15,15,15,14,14,13,13,13,13,12,12,10,10,10,10,9,50]"
   ]
  },
  {
   "cell_type": "code",
   "execution_count": 3,
   "id": "04f74750",
   "metadata": {},
   "outputs": [
    {
     "data": {
      "text/plain": [
       "50"
      ]
     },
     "execution_count": 3,
     "metadata": {},
     "output_type": "execute_result"
    }
   ],
   "source": [
    "#maximo\n",
    "max(lst)"
   ]
  },
  {
   "cell_type": "code",
   "execution_count": 5,
   "id": "168a8c99",
   "metadata": {},
   "outputs": [
    {
     "data": {
      "text/plain": [
       "1"
      ]
     },
     "execution_count": 5,
     "metadata": {},
     "output_type": "execute_result"
    }
   ],
   "source": [
    "#minimo\n",
    "min(lst)"
   ]
  },
  {
   "cell_type": "code",
   "execution_count": 6,
   "id": "9b5a4ec5",
   "metadata": {},
   "outputs": [
    {
     "data": {
      "text/plain": [
       "461"
      ]
     },
     "execution_count": 6,
     "metadata": {},
     "output_type": "execute_result"
    }
   ],
   "source": [
    "#soma \n",
    "sum(lst)"
   ]
  },
  {
   "cell_type": "code",
   "execution_count": 7,
   "id": "cdc54233",
   "metadata": {},
   "outputs": [
    {
     "data": {
      "text/plain": [
       "2.35"
      ]
     },
     "execution_count": 7,
     "metadata": {},
     "output_type": "execute_result"
    }
   ],
   "source": [
    "#Arredondamento com 2 algarismo significativos\n",
    "round(2.34567,2)"
   ]
  },
  {
   "cell_type": "code",
   "execution_count": 8,
   "id": "37ad8134",
   "metadata": {},
   "outputs": [
    {
     "data": {
      "text/plain": [
       "28"
      ]
     },
     "execution_count": 8,
     "metadata": {},
     "output_type": "execute_result"
    }
   ],
   "source": [
    "#quantidade de intens da lista\n",
    "len(lst)"
   ]
  },
  {
   "cell_type": "code",
   "execution_count": 9,
   "id": "904dc59e",
   "metadata": {},
   "outputs": [],
   "source": [
    "#ordem crescente\n",
    "crescente = sorted(lst)"
   ]
  },
  {
   "cell_type": "code",
   "execution_count": 10,
   "id": "f435e079",
   "metadata": {},
   "outputs": [
    {
     "name": "stdout",
     "output_type": "stream",
     "text": [
      "[1, 2, 9, 10, 10, 10, 10, 12, 12, 13, 13, 13, 13, 14, 14, 15, 15, 15, 15, 16, 18, 18, 19, 19, 30, 30, 45, 50]\n"
     ]
    }
   ],
   "source": [
    "print(crescente)"
   ]
  },
  {
   "cell_type": "code",
   "execution_count": 11,
   "id": "76c0ce71",
   "metadata": {},
   "outputs": [
    {
     "data": {
      "text/plain": [
       "1"
      ]
     },
     "execution_count": 11,
     "metadata": {},
     "output_type": "execute_result"
    }
   ],
   "source": [
    "#menor valor\n",
    "crescente[0]"
   ]
  },
  {
   "cell_type": "code",
   "execution_count": 12,
   "id": "c174830e",
   "metadata": {},
   "outputs": [
    {
     "data": {
      "text/plain": [
       "2"
      ]
     },
     "execution_count": 12,
     "metadata": {},
     "output_type": "execute_result"
    }
   ],
   "source": [
    "#segundo menor valor\n",
    "crescente[1]"
   ]
  },
  {
   "cell_type": "code",
   "execution_count": 13,
   "id": "600f10c5",
   "metadata": {},
   "outputs": [
    {
     "data": {
      "text/plain": [
       "50"
      ]
     },
     "execution_count": 13,
     "metadata": {},
     "output_type": "execute_result"
    }
   ],
   "source": [
    "#maior valor\n",
    "crescente[-1]"
   ]
  },
  {
   "cell_type": "code",
   "execution_count": 14,
   "id": "135e2729",
   "metadata": {},
   "outputs": [
    {
     "data": {
      "text/plain": [
       "45"
      ]
     },
     "execution_count": 14,
     "metadata": {},
     "output_type": "execute_result"
    }
   ],
   "source": [
    "#segundo maior valor\n",
    "crescente[-2]"
   ]
  },
  {
   "cell_type": "code",
   "execution_count": 18,
   "id": "bc66cd95",
   "metadata": {},
   "outputs": [
    {
     "name": "stdout",
     "output_type": "stream",
     "text": [
      "Counter({15: 4, 13: 4, 10: 4, 30: 2, 19: 2, 18: 2, 14: 2, 12: 2, 1: 1, 2: 1, 45: 1, 16: 1, 9: 1, 50: 1})\n"
     ]
    }
   ],
   "source": [
    "#contando o numero de repetições dos elementos\n",
    "from collections import Counter\n",
    "intens_lst = Counter(lst)\n",
    "print(intens_lst)"
   ]
  },
  {
   "cell_type": "code",
   "execution_count": 19,
   "id": "e2fbc97a",
   "metadata": {},
   "outputs": [],
   "source": [
    "#statistica\n",
    "from statistics import *"
   ]
  },
  {
   "cell_type": "code",
   "execution_count": 20,
   "id": "6ce1f76a",
   "metadata": {},
   "outputs": [
    {
     "data": {
      "text/plain": [
       "16.464285714285715"
      ]
     },
     "execution_count": 20,
     "metadata": {},
     "output_type": "execute_result"
    }
   ],
   "source": [
    "#média\n",
    "mean(lst)"
   ]
  },
  {
   "cell_type": "code",
   "execution_count": 21,
   "id": "98182cb3",
   "metadata": {},
   "outputs": [
    {
     "data": {
      "text/plain": [
       "14.0"
      ]
     },
     "execution_count": 21,
     "metadata": {},
     "output_type": "execute_result"
    }
   ],
   "source": [
    "#Mediana\n",
    "median(lst)"
   ]
  },
  {
   "cell_type": "code",
   "execution_count": 22,
   "id": "be8aa97f",
   "metadata": {},
   "outputs": [
    {
     "data": {
      "text/plain": [
       "15"
      ]
     },
     "execution_count": 22,
     "metadata": {},
     "output_type": "execute_result"
    }
   ],
   "source": [
    "#Moda\n",
    "mode(lst)"
   ]
  },
  {
   "cell_type": "code",
   "execution_count": 23,
   "id": "071343d1",
   "metadata": {},
   "outputs": [
    {
     "data": {
      "text/plain": [
       "10.720289323269366"
      ]
     },
     "execution_count": 23,
     "metadata": {},
     "output_type": "execute_result"
    }
   ],
   "source": [
    "#Desvio padrão\n",
    "stdev(lst)"
   ]
  },
  {
   "cell_type": "code",
   "execution_count": 24,
   "id": "127a97a6",
   "metadata": {},
   "outputs": [
    {
     "data": {
      "text/plain": [
       "114.92460317460318"
      ]
     },
     "execution_count": 24,
     "metadata": {},
     "output_type": "execute_result"
    }
   ],
   "source": [
    "#Variância\n",
    "variance(lst)"
   ]
  },
  {
   "cell_type": "code",
   "execution_count": 25,
   "id": "fc047495",
   "metadata": {},
   "outputs": [
    {
     "name": "stdout",
     "output_type": "stream",
     "text": [
      "<class 'numpy.ndarray'>\n"
     ]
    }
   ],
   "source": [
    "#numeros aleatórios\n",
    "from numpy import *\n",
    "a = random.random((8,8))\n",
    "print(type(a))"
   ]
  },
  {
   "cell_type": "code",
   "execution_count": 26,
   "id": "f8147c79",
   "metadata": {},
   "outputs": [
    {
     "name": "stdout",
     "output_type": "stream",
     "text": [
      "[[0.03562532 0.42272019 0.68200994 0.8060322  0.67615336 0.1998783\n",
      "  0.81923789 0.70286458]\n",
      " [0.5989521  0.22233709 0.61854834 0.58741395 0.57661801 0.42557695\n",
      "  0.03815761 0.04180626]\n",
      " [0.73708258 0.07629804 0.32911577 0.25574281 0.34804499 0.63098603\n",
      "  0.67301919 0.61619519]\n",
      " [0.99166178 0.92561906 0.87973519 0.03108599 0.17676662 0.47184676\n",
      "  0.72320261 0.39951457]\n",
      " [0.94614843 0.51662886 0.59888577 0.64201314 0.91576325 0.77187985\n",
      "  0.17615737 0.05614906]\n",
      " [0.7744309  0.13777147 0.89303815 0.42494611 0.4088209  0.56993857\n",
      "  0.53840448 0.7502282 ]\n",
      " [0.17104462 0.02144289 0.98378966 0.44715192 0.47856905 0.05954536\n",
      "  0.07340447 0.59579873]\n",
      " [0.68962615 0.04105674 0.1942918  0.60279568 0.75145175 0.09565329\n",
      "  0.07937796 0.59056646]]\n"
     ]
    }
   ],
   "source": [
    "print(a)"
   ]
  },
  {
   "cell_type": "code",
   "execution_count": 27,
   "id": "2e23774d",
   "metadata": {},
   "outputs": [
    {
     "name": "stdout",
     "output_type": "stream",
     "text": [
      "1.5\n"
     ]
    }
   ],
   "source": [
    "#covariancia\n",
    "import numpy as np\n",
    "\n",
    "array1 = np.array([1,2,3])\n",
    "array2 = np.array([2,4,5])\n",
    "\n",
    "covariance = np.cov(array1, array2)[0][1]\n",
    "print(covariance)"
   ]
  },
  {
   "cell_type": "code",
   "execution_count": null,
   "id": "ff02990a",
   "metadata": {},
   "outputs": [],
   "source": []
  }
 ],
 "metadata": {
  "kernelspec": {
   "display_name": "Python 3",
   "language": "python",
   "name": "python3"
  },
  "language_info": {
   "codemirror_mode": {
    "name": "ipython",
    "version": 3
   },
   "file_extension": ".py",
   "mimetype": "text/x-python",
   "name": "python",
   "nbconvert_exporter": "python",
   "pygments_lexer": "ipython3",
   "version": "3.8.8"
  }
 },
 "nbformat": 4,
 "nbformat_minor": 5
}
